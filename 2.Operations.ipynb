{
 "cells": [
  {
   "cell_type": "markdown",
   "id": "c0f15d5d-3ca3-4c50-9446-4f4240348f57",
   "metadata": {},
   "source": [
    "# Operations on Heaps\n",
    "\n",
    "1. **Insertion**:\n",
    "\n",
    "2. **Deletion** (Typically removes the root element, either the max or min):\n",
    "\n",
    "3. **Peek**:\n",
    "\n",
    "4. **Heapify**:\n",
    "\n",
    "\n",
    "### Heap Sort\n",
    "\n",
    "Heap sort is an efficient sorting algorithm that uses a heap structure to sort an array:\n",
    "   - **Step 1**: Convert the array into a max-heap.\n",
    "   - **Step 2**: Swap the root (the largest element in a max-heap) with the last element in the heap.\n",
    "   - **Step 3**: Reduce the size of the heap by one and heapify the root element to restore the max-heap property.\n",
    "   - Repeat steps 2 and 3 until the heap is empty.\n",
    "   \n",
    "Heap sort has a time complexity of \\(O(n \\log n)\\) due to the repeated heapify operations.\n",
    "\n",
    "\n",
    "\n",
    "### Array Representation of Heaps\n",
    "\n",
    "Heaps are commonly represented using arrays for efficiency:\n",
    "   - The root of the heap is at index `0`.\n",
    "   - For a node at index `i`:\n",
    "     - **Left child** is at index `2 * i + 1`\n",
    "     - **Right child** is at index `2 * i + 2`\n",
    "     - **Parent** is at index `(i - 1) // 2`\n",
    "\n",
    "Using arrays helps efficiently store and access elements without needing to use pointers, as required in traditional binary tree implementations.\n",
    "\n",
    "\n"
   ]
  },
  {
   "cell_type": "markdown",
   "id": "82ec24a5-b658-4a4b-a643-f9383cb1e0fe",
   "metadata": {},
   "source": [
    "## $$ \\boxed{Insertion} $$"
   ]
  },
  {
   "cell_type": "markdown",
   "id": "88beb7b8-bb87-4313-9ab2-5481b9faef5c",
   "metadata": {},
   "source": [
    "Suppose we have a **max-heap** represented as an array:\n",
    "   ```\n",
    "   [50, 30, 40, 10, 20]\n",
    "   ```\n",
    "\n",
    "We want to insert the value `60` into this heap.\n",
    "\n",
    "1. **Insert 60 at the End**:\n",
    "   - Add `60` to the end: `[50, 30, 40, 10, 20, 60]`.\n",
    "   - The complete binary tree structure is maintained.\n",
    "\n",
    "2. **Bubble Up**:\n",
    "   - Compare `60` with its parent, `40` (located at index `(5 - 1) // 2 = 2`).\n",
    "   - Since `60` is greater than `40`, they need to be swapped.\n",
    "   - After swapping, the array becomes: `[50, 30, 60, 10, 20, 40]`.\n",
    "\n",
    "3. **Continue Bubbling Up**:\n",
    "   - Now, `60` is at index `2`. Compare it with its new parent, `50` (at index `0`).\n",
    "   - Since `60` is greater than `50`, we swap them.\n",
    "   - After swapping, the array becomes: `[60, 30, 50, 10, 20, 40]`.\n",
    "\n",
    "4. **End of Bubbling Up**:\n",
    "   - Now, `60` is at the root (index `0`), and there’s no parent to compare with.\n",
    "   - The heap property is restored, and the insertion is complete.\n",
    "\n",
    "#### Final Heap After Insertion\n",
    "The resulting heap is:\n",
    "   ```\n",
    "   [60, 30, 50, 10, 20, 40]\n",
    "   ```\n",
    "\n",
    "The new element `60` has been correctly positioned at the root, and the max-heap property is restored. \n",
    "\n",
    "This is the basic idea behind \"insertion by bubbling up\" in a heap!"
   ]
  },
  {
   "cell_type": "markdown",
   "id": "3cb3ffe2-56ff-4b3c-94b1-0c1d78bcb2ee",
   "metadata": {},
   "source": [
    "#### code"
   ]
  },
  {
   "cell_type": "code",
   "execution_count": 3,
   "id": "94ed3f7e-6d0f-4fc9-9921-fc9ac4eacce3",
   "metadata": {},
   "outputs": [
    {
     "name": "stdout",
     "output_type": "stream",
     "text": [
      "Heap after insertion: [60, 30, 50, 10, 20, 40]\n"
     ]
    }
   ],
   "source": [
    "def insert(heap, value):\n",
    "    # Step 1: Add the new element at the end of the heap\n",
    "    heap.append(value)\n",
    "    \n",
    "    # Step 2: Bubble up the element to maintain the heap property\n",
    "    i = len(heap) - 1  # Index of the newly added element\n",
    "    while i > 0:\n",
    "        parent = (i - 1) // 2  # Calculate the parent index\n",
    "        if heap[i] > heap[parent]:  # If the heap property is violated\n",
    "            # Swap the element with its parent\n",
    "            heap[i], heap[parent] = heap[parent], heap[i]\n",
    "            # Move up to the parent index\n",
    "            i = parent\n",
    "        else:\n",
    "            # If the heap property is not violated, stop bubbling up\n",
    "            break\n",
    "\n",
    "\n",
    "\n",
    "max_heap = [50, 30, 40, 10, 20]\n",
    "insert(max_heap, 60)\n",
    "print(\"Heap after insertion:\", max_heap)\n"
   ]
  },
  {
   "cell_type": "markdown",
   "id": "768610e9-4412-4fba-b73b-9236684e9608",
   "metadata": {},
   "source": [
    "## $$ \\boxed{Deletion} $$\n"
   ]
  },
  {
   "cell_type": "markdown",
   "id": "4c7cd279-f05e-4ca5-90b9-9a0084e14c09",
   "metadata": {},
   "source": [
    "### Example Walkthrough\n",
    "\n",
    "Let’s go through an example with a max-heap:\n",
    "\n",
    "Given max-heap:\n",
    "```\n",
    "[50, 30, 40, 10, 20, 8]\n",
    "```\n",
    "\n",
    "We want to delete the root element `50`.\n",
    "\n",
    "1. **Swap the Root with the Last Element**:\n",
    "   - Swap `50` (root) with `8` (last element).\n",
    "   - The array becomes: `[8, 30, 40, 10, 20, 50]`.\n",
    "\n",
    "2. **Remove the Last Element**:\n",
    "   - Remove `50`, the last element, which was the original root.\n",
    "   - The array now is: `[8, 30, 40, 10, 20]`.\n",
    "\n",
    "3. **Bubble Down the New Root**:\n",
    "   - The new root is `8`. We compare it with its children `30` and `40`.\n",
    "   - Since `40` is the largest child and greater than `8`, we swap `8` with `40`.\n",
    "   - The array becomes: `[40, 30, 8, 10, 20]`.\n",
    "\n",
    "4. **Continue Bubbling Down**:\n",
    "   - Now, `8` is at index `2`. We compare it with its children.\n",
    "   - `8` has no children larger than itself, so no more swaps are needed.\n",
    "\n",
    "### Final Heap After Deletion\n",
    "\n",
    "The final heap after deletion is:\n",
    "```\n",
    "[40, 30, 8, 10, 20]\n",
    "```\n"
   ]
  },
  {
   "cell_type": "markdown",
   "id": "f85d7cf9-ab0d-4664-abd1-153a3b48c0e0",
   "metadata": {},
   "source": [
    "### Summary of Differences Between Max-Heap and Min-Heap Deletion\n",
    "\n",
    "- In a **min-heap deletion**, you swap the root with the last element and then remove the last element, just like in a max-heap.\n",
    "- When bubbling down, however, you compare the new root with its **smallest child** (instead of the largest, as in a max-heap).\n",
    "- Continue swapping with the smallest child until the element is smaller than both children or there are no children, restoring the min-heap property. \n",
    "\n",
    "This process ensures that the structure and properties of the min-heap are preserved after the root deletion."
   ]
  },
  {
   "cell_type": "code",
   "execution_count": 6,
   "id": "63f9b7d7-ad17-419d-9764-df1721e69d3d",
   "metadata": {},
   "outputs": [
    {
     "name": "stdout",
     "output_type": "stream",
     "text": [
      "Heap after deletion: [50, 30, 40, 10, 20]\n"
     ]
    }
   ],
   "source": [
    "def delete_root(heap):\n",
    "    # Step 1: Replace the root with the last element\n",
    "    if len(heap) == 0:\n",
    "        return \"Heap is empty, nothing to delete\"\n",
    "    \n",
    "    heap[0] = heap[-1]  # Move the last element to the root\n",
    "    heap.pop()  # Remove the last element (original root)\n",
    "    \n",
    "    # Step 2: Bubble down the new root element to maintain the heap property\n",
    "    i = 0  # Start with the root\n",
    "    while True:\n",
    "        left_child = 2 * i + 1  # Calculate the left child index\n",
    "        right_child = 2 * i + 2  # Calculate the right child index\n",
    "        largest = i  # Assume the current node is the largest\n",
    "\n",
    "        # If the left child exists and is greater than the current largest, update largest\n",
    "        if left_child < len(heap) and heap[left_child] > heap[largest]:\n",
    "            largest = left_child\n",
    "        \n",
    "        # If the right child exists and is greater than the current largest, update largest\n",
    "        if right_child < len(heap) and heap[right_child] > heap[largest]:\n",
    "            largest = right_child\n",
    "        \n",
    "        # If the largest is still the current node, we're done\n",
    "        if largest == i:\n",
    "            break\n",
    "        \n",
    "        # Swap the current node with the largest child\n",
    "        heap[i], heap[largest] = heap[largest], heap[i]\n",
    "        # Move down to the largest child\n",
    "        i = largest\n",
    "\n",
    "# Example usage:\n",
    "max_heap = [60, 30, 50, 10, 20, 40]\n",
    "delete_root(max_heap)\n",
    "print(\"Heap after deletion:\", max_heap)\n"
   ]
  },
  {
   "cell_type": "markdown",
   "id": "0b2966a6-e530-421d-a35e-c87288df0912",
   "metadata": {},
   "source": [
    "## $$ \\boxed{Peek} $$\n"
   ]
  },
  {
   "cell_type": "markdown",
   "id": "afbc2e81-a3c6-4e57-84fd-1093b0381a84",
   "metadata": {},
   "source": [
    "### What is Peek?\n",
    "\n",
    "- In a **max-heap**, the root (or the topmost element) is the largest element in the heap. So, \"peeking\" at the heap will return the largest element.\n",
    "- In a **min-heap**, the root is the smallest element, so peeking will return the smallest element.\n",
    "\n",
    "### Why is the Root Element Always the Largest/Smallest?\n",
    "\n",
    "This is because of the **heap property**:\n",
    "   - In a max-heap, every parent node is greater than or equal to its children, so the largest value must be at the root.\n",
    "   - In a min-heap, every parent node is less than or equal to its children, so the smallest value must be at the root.\n",
    "\n",
    "\n",
    "### Example of Peek Operation\n",
    "\n",
    "Suppose we have a **max-heap** represented as an array:\n",
    "```python\n",
    "heap = [60, 30, 50, 10, 20, 40]\n",
    "```\n",
    "\n",
    "If we call the **peek** operation on this heap:\n",
    "1. We simply access `heap[0]`, which is `60`.\n",
    "2. `60` is the largest element in this max-heap, and peek returns it without modifying the heap.\n",
    "\n",
    "\n",
    "\n",
    "### Summary\n",
    "\n",
    "- **Peek** retrieves the root element of the heap (largest in max-heap, smallest in min-heap).\n",
    "- It has \\( O(1) \\) time complexity because it directly accesses `heap[0]`."
   ]
  },
  {
   "cell_type": "code",
   "execution_count": 8,
   "id": "7fab37e2-1f9c-4bfd-bb94-0910fc83e69d",
   "metadata": {},
   "outputs": [
    {
     "name": "stdout",
     "output_type": "stream",
     "text": [
      "Peek: 60\n"
     ]
    }
   ],
   "source": [
    "def peek(heap):\n",
    "    if len(heap) == 0:\n",
    "        return \"Heap is empty\"\n",
    "    return heap[0]\n",
    "\n",
    "\n",
    "\n",
    "max_heap = [60, 30, 50, 10, 20, 40]\n",
    "print(\"Peek:\", peek(max_heap))\n"
   ]
  },
  {
   "cell_type": "markdown",
   "id": "3b01496f-f13d-467b-8572-f3e45b392806",
   "metadata": {},
   "source": [
    "## $$ \\boxed{Heapify:}$$"
   ]
  },
  {
   "cell_type": "code",
   "execution_count": null,
   "id": "85e9e3b6-b0b8-4ef1-8dd2-61e198dcf9ef",
   "metadata": {},
   "outputs": [],
   "source": []
  }
 ],
 "metadata": {
  "kernelspec": {
   "display_name": "Python 3 (ipykernel)",
   "language": "python",
   "name": "python3"
  },
  "language_info": {
   "codemirror_mode": {
    "name": "ipython",
    "version": 3
   },
   "file_extension": ".py",
   "mimetype": "text/x-python",
   "name": "python",
   "nbconvert_exporter": "python",
   "pygments_lexer": "ipython3",
   "version": "3.12.6"
  }
 },
 "nbformat": 4,
 "nbformat_minor": 5
}
