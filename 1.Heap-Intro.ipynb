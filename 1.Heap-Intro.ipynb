{
 "cells": [
  {
   "cell_type": "markdown",
   "id": "b2fa71bd-0e4b-4db6-bccf-1a1e15bf093a",
   "metadata": {},
   "source": [
    "## Heap Introduction"
   ]
  },
  {
   "cell_type": "markdown",
   "id": "cea152b0-341c-4120-959d-af12b2446239",
   "metadata": {},
   "source": [
    "A heap is a special type of binary tree that is used primarily for efficient data retrieval, particularly in implementing priority queues and for heap sort. Heaps come in two main types: **max-heaps** and **min-heaps**. \n",
    "### Basic Concepts\n",
    "\n",
    "1. **Binary Tree Structure**:\n",
    "   - A heap is a binary tree, which means each node can have at most two children.\n",
    "   - It is also a **complete binary tree**. This means that all levels of the tree are fully filled, except possibly the last level, which is filled from left to right.\n",
    "\n",
    "\n",
    "\n",
    "2. **Types of Heaps**:\n",
    "   - **Max-Heap**: In a max-heap, each parent node is greater than or equal to its children. This means the largest value is always at the root of the tree.\n",
    "   - **Min-Heap**: In a min-heap, each parent node is less than or equal to its children, meaning the smallest value is at the root.\n",
    "\n",
    "### Properties of a Heap\n",
    "\n",
    "Heaps have two main properties:\n",
    "- **Heap Property**: Every parent node should either be greater than or less than its children (depending on whether it’s a max-heap or min-heap).\n",
    "- **Complete Tree Property**: It should be a complete binary tree.\n",
    "\n"
   ]
  },
  {
   "cell_type": "markdown",
   "id": "0e9817fa-da36-465b-8e49-a6413296a3a2",
   "metadata": {},
   "source": [
    "### Array Representation of Heaps\n",
    "\n",
    "Heaps are commonly represented using arrays for efficiency:\n",
    "   - The root of the heap is at index `0`.\n",
    "   - For a node at index `i`:\n",
    "     - **Left child** is at index `2 * i + 1`\n",
    "     - **Right child** is at index `2 * i + 2`\n",
    "     - **Parent** is at index `(i - 1) // 2`\n",
    "\n",
    "Using arrays helps efficiently store and access elements without needing to use pointers, as required in traditional binary tree implementations.\n",
    "\n"
   ]
  },
  {
   "cell_type": "markdown",
   "id": "206aec7a-eaa9-42a3-bacd-769af46b1571",
   "metadata": {},
   "source": [
    "### Operations on Heaps\n",
    "\n",
    "1. **Insertion**:\n",
    "   - Add the new element at the end of the array (maintaining the complete tree structure).\n",
    "   - Then “bubble up” (or heapify up) this element to restore the heap property:\n",
    "     - Compare the new element with its parent. If it violates the heap property, swap it with the parent.\n",
    "     - Repeat until the heap property is restored.\n",
    "\n",
    "2. **Deletion** (Typically removes the root element, either the max or min):\n",
    "   - Swap the root element with the last element in the array.\n",
    "   - Remove the last element (which was the root).\n",
    "   - Restore the heap property by “bubbling down” (or heapifying down) the swapped element:\n",
    "     - Compare the swapped element with its children.\n",
    "     - Swap it with the largest (for max-heap) or smallest (for min-heap) child, if it violates the heap property.\n",
    "     - Repeat until the heap property is restored.\n",
    "\n",
    "3. **Peek**:\n",
    "   - In a max-heap, this operation returns the largest element, which is the root. In a min-heap, it returns the smallest element.\n",
    "   - This operation has a constant time complexity, \\(O(1)\\), since the root element is always at index `0`.\n",
    "\n",
    "4. **Heapify**:\n",
    "   - Given an unsorted array, you can turn it into a heap by applying a heapify process.\n",
    "   - Start from the last non-leaf node and apply the bubble-down process on each node.\n",
    "   - This operation has a time complexity of \\(O(n)\\).\n",
    "\n",
    "### Heap Sort\n",
    "\n",
    "Heap sort is an efficient sorting algorithm that uses a heap structure to sort an array:\n",
    "   - **Step 1**: Convert the array into a max-heap.\n",
    "   - **Step 2**: Swap the root (the largest element in a max-heap) with the last element in the heap.\n",
    "   - **Step 3**: Reduce the size of the heap by one and heapify the root element to restore the max-heap property.\n",
    "   - Repeat steps 2 and 3 until the heap is empty.\n",
    "   \n",
    "Heap sort has a time complexity of \\(O(n \\log n)\\) due to the repeated heapify operations.\n",
    "\n"
   ]
  },
  {
   "cell_type": "markdown",
   "id": "4f75bc7c-dbc8-4378-8f3e-0163e62bf6f1",
   "metadata": {},
   "source": [
    "### Applications of Heaps\n",
    "\n",
    "1. **Priority Queue**:\n",
    "   - Heaps are commonly used to implement priority queues, where elements are processed based on priority rather than arrival order.\n",
    "   - Min-heaps are ideal for scenarios where the minimum element needs to be processed first, while max-heaps work well when the maximum is prioritized.\n",
    "\n",
    "2. **Heap Sort**:\n",
    "   - Sorting an array efficiently with a time complexity of \\(O(n \\log n)\\).\n",
    "\n",
    "3. **Graph Algorithms**:\n",
    "   - Algorithms like Dijkstra’s shortest path and Prim’s minimum spanning tree use heaps to find the minimum (or maximum) efficiently.\n",
    "\n"
   ]
  },
  {
   "cell_type": "markdown",
   "id": "e5f6c3cb-a089-41ee-87ab-e9acae7e644e",
   "metadata": {},
   "source": [
    "### Complexity Analysis\n",
    "\n",
    "- **Insertion**: \\(O(\\log n)\\) due to bubble up.\n",
    "- **Deletion**: \\(O(\\log n)\\) due to bubble down.\n",
    "- **Peek**: \\(O(1)\\).\n",
    "- **Building a Heap**: \\(O(n)\\) using the heapify method.\n",
    "- **Heap Sort**: \\(O(n \\log n)\\).\n",
    "\n",
    "This is a comprehensive overview of the heap data structure, covering its properties, operations, and applications."
   ]
  },
  {
   "cell_type": "code",
   "execution_count": null,
   "id": "a257e091-f0eb-4ff9-9267-9c00a6196499",
   "metadata": {},
   "outputs": [],
   "source": []
  }
 ],
 "metadata": {
  "kernelspec": {
   "display_name": "Python 3 (ipykernel)",
   "language": "python",
   "name": "python3"
  },
  "language_info": {
   "codemirror_mode": {
    "name": "ipython",
    "version": 3
   },
   "file_extension": ".py",
   "mimetype": "text/x-python",
   "name": "python",
   "nbconvert_exporter": "python",
   "pygments_lexer": "ipython3",
   "version": "3.12.6"
  }
 },
 "nbformat": 4,
 "nbformat_minor": 5
}
